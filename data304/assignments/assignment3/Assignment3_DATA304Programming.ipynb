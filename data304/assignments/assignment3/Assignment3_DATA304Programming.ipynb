{
 "cells": [
  {
   "cell_type": "markdown",
   "id": "c0b6f987",
   "metadata": {},
   "source": [
    "Samanalie Perera, 300486075"
   ]
  },
  {
   "cell_type": "markdown",
   "id": "af520082",
   "metadata": {},
   "source": [
    "# Assignment 3: Programming "
   ]
  },
  {
   "cell_type": "code",
   "execution_count": 1,
   "id": "a39ef41e",
   "metadata": {},
   "outputs": [],
   "source": [
    "from SimPy.Simulation import *\n",
    "import random\n",
    "import numpy as np\n",
    "import math"
   ]
  },
  {
   "cell_type": "markdown",
   "id": "76489365",
   "metadata": {},
   "source": [
    "**1. Modify the q3.py simulation model of an M/M/c queueing system (to create q5.py) as follows.**"
   ]
  },
  {
   "cell_type": "markdown",
   "id": "68d12248",
   "metadata": {},
   "source": [
    "- Set up a list m of K monitors, stored as a class variable in the G class. For k ∈ {0, 1, . . . , K −1}, let m[k] monitor the proportion of time that there are k customers in the system.\n"
   ]
  },
  {
   "cell_type": "markdown",
   "id": "6705476e",
   "metadata": {},
   "source": [
    "- Monitor the Resource so as to obtain the performance measures WQ and LQ. See Lectures on SimPy §4.6 (pages 18–19) and §7.7 (page 36).\n"
   ]
  },
  {
   "cell_type": "markdown",
   "id": "b61d28c3",
   "metadata": {},
   "source": [
    "Test your simulation model with c = 1, λ = 2, μ = 3 and K = 10. For each performance measure, produce a both a point estimate and a 95% confidence interval from 50 replications.\n"
   ]
  },
  {
   "cell_type": "markdown",
   "id": "a8edcf92",
   "metadata": {},
   "source": [
    "Compare your results to the expected values of \n",
    "\n",
    "$$\n",
    "p = \\frac{λ}{μ}\\\\\n",
    "LQ = \\frac{p^2}{1-p}\\\\\n",
    "WQ = \\frac{LQ}{λ}\\\\\n",
    "π0 = 1 − ρ\n",
    "πk = ρk(1 − ρ) for k ≥ 1\n",
    "$$"
   ]
  },
  {
   "cell_type": "markdown",
   "id": "2ef90bc5",
   "metadata": {},
   "source": [
    "Comment on your results, especially on whether the expected values are contained within the 95% confidence intervals.\n"
   ]
  },
  {
   "cell_type": "code",
   "execution_count": 2,
   "id": "27d31d4e",
   "metadata": {},
   "outputs": [
    {
     "name": "stdout",
     "output_type": "stream",
     "text": [
      "WQ: expect =0.6667 point=0.6677 ci = (0.6566, 0.6787)\n",
      "LQ: expect =1.3333 point=1.3360 ci = (1.3120, 1.3599)\n",
      "pi[0]: expect =0.3333 point=0.3341 ci = (0.3315, 0.3367)\n",
      "pi[1]: expect =0.2222 point=0.2219 ci = (0.2206, 0.2232)\n",
      "pi[2]: expect =0.1481 point=0.1474 ci = (0.1464, 0.1484)\n",
      "pi[3]: expect =0.0988 point=0.0982 ci = (0.0971, 0.0993)\n",
      "pi[4]: expect =0.0658 point=0.0660 ci = (0.0651, 0.0669)\n",
      "pi[5]: expect =0.0439 point=0.0438 ci = (0.0430, 0.0445)\n",
      "pi[6]: expect =0.0293 point=0.0294 ci = (0.0288, 0.0300)\n",
      "pi[7]: expect =0.0195 point=0.0199 ci = (0.0194, 0.0205)\n",
      "pi[8]: expect =0.0130 point=0.0132 ci = (0.0127, 0.0136)\n",
      "pi[9]: expect =0.0087 point=0.0088 ci = (0.0083, 0.0092)\n"
     ]
    }
   ],
   "source": [
    "## Useful extras ----------\n",
    "def conf(L):\n",
    "    \"\"\"confidence interval\"\"\"\n",
    "    lower = np.mean(L) - 1.96*np.std(L)/math.sqrt(len(L))\n",
    "    upper = np.mean(L) + 1.96*np.std(L)/math.sqrt(len(L))\n",
    "    return (lower, upper)\n",
    "\n",
    "\n",
    "class Source(Process):\n",
    "    \n",
    "    def run(self, N, lam, mu):\n",
    "        for i in range(N):\n",
    "            a = Arrival(str(i))\n",
    "            activate(a, a.run(mu))\n",
    "            t = random.expovariate(lam)\n",
    "            yield hold, self, t\n",
    "\n",
    "class Arrival(Process):\n",
    "    n = 0 \n",
    "    \n",
    "    def run(self, mu):\n",
    "        Arrival.n +=1 \n",
    "        arrivalTime = now()\n",
    "        G.numbermon.observe(Arrival.n)\n",
    "        \n",
    "        for j in range(K):\n",
    "            if(j != Arrival.n):\n",
    "                G.m[j].observe(0)\n",
    "        if(Arrival.n < K):\n",
    "            G.m[Arrival.n].observe(1)\n",
    "        yield request, self, G.server\n",
    "                \n",
    "        t = random.expovariate(mu)\n",
    "        yield hold, self, t\n",
    "        yield release, self, G.server \n",
    "        Arrival.n -= 1\n",
    "        G.numbermon.observe(Arrival.n)\n",
    "        delay = now() - arrivalTime\n",
    "        G.delaymon.observe(delay)\n",
    "\n",
    "\n",
    "            #Observing the amount of customers in system \n",
    "        for j in range(K):\n",
    "            if (j != Arrival.n):\n",
    "                G.m[j].observe(0)\n",
    "        if(Arrival.n < K):\n",
    "            G.m[Arrival.n].observe(1)\n",
    "        \n",
    "class G:\n",
    "    server = 'dummy'\n",
    "    delaymon = 'monitor'\n",
    "    numbermon = 'monitor'\n",
    "    m = 'list of monitors'\n",
    "\n",
    "def models (s, N, lamb, mu, maxtime, rvseed):\n",
    "        #setting it up \n",
    "    initialize()\n",
    "    random.seed(rvseed)\n",
    "    G.server = Resource(s, monitored = True)\n",
    "    G.delaymon = Monitor()\n",
    "    G.numbermon = Monitor()\n",
    "        \n",
    "    G.m = []\n",
    "    for i in range(K):\n",
    "        G.m.append(Monitor())\n",
    "            \n",
    "        #starting the simulation\n",
    "    s = Source('Source')\n",
    "    activate(s, s.run(N, lamb, mu))\n",
    "    simulate(until = maxtime)\n",
    "        \n",
    "        #performance measures \n",
    "    W = G.delaymon.mean()\n",
    "    L = G.numbermon.timeAverage()\n",
    "    P = []\n",
    "    for j in range (K):\n",
    "        P.append(G.m[j].timeAverage())\n",
    "    LQ = G.server.waitMon.timeAverage()\n",
    "    lambeff = L/W\n",
    "    WQ = LQ/lambeff\n",
    "            \n",
    "    return(WQ,LQ,P)\n",
    "        #running the experiment \n",
    "K = 10\n",
    "allWQ = []\n",
    "allLQ = []\n",
    "allP = []\n",
    "for j in range(K):\n",
    "    allP.append([])\n",
    "for k in range(50):\n",
    "    seed = 123*k\n",
    "    result = models(s = 1,\n",
    "                    N = 10000,\n",
    "                    lamb = 2.0,\n",
    "                    mu = 3.0, \n",
    "                    maxtime = 2000000, \n",
    "                    rvseed = seed)\n",
    "    allWQ.append(result[0])\n",
    "    allLQ.append(result[1])\n",
    "    tempP = result[2]\n",
    "    for j in range(K):\n",
    "        tester = allP[j]\n",
    "        test = tempP[j]\n",
    "        tester.append(test)\n",
    "\n",
    "\n",
    "a = np.mean(allWQ)\n",
    "(b,c) = conf(allWQ)\n",
    "rho = 2.0/3.0\n",
    "LQ = (rho**2)/(1-rho)\n",
    "WQ = LQ/2.0\n",
    "print(\"WQ: expect =%6.4f point=%6.4f ci = (%6.4f, %6.4f)\"%(WQ,a,b,c))\n",
    "        \n",
    "a = np.mean(allLQ)\n",
    "(b,c) = conf(allLQ)\n",
    "\n",
    "print(\"LQ: expect =%6.4f point=%6.4f ci = (%6.4f, %6.4f)\"%(LQ,a,b,c))\n",
    "\n",
    "p = []\n",
    "for j in range(K):\n",
    "    p.append(math.pow(rho, j)*(1-rho))\n",
    "for j in range(K):\n",
    "    a = np.mean(allP[j])\n",
    "    (b,c) = conf(allP[j])\n",
    "    print(\"pi[%1d]: expect =%6.4f point=%6.4f ci = (%6.4f, %6.4f)\"%(j, p[j],a,b,c))\n",
    "    "
   ]
  },
  {
   "cell_type": "markdown",
   "id": "d142e4d0",
   "metadata": {},
   "source": [
    "**2a. Denote by τ the service time in a single-server queueing system, where τ has a Coxian distribution with the following pictorial representation**"
   ]
  },
  {
   "cell_type": "markdown",
   "id": "833a00a0",
   "metadata": {},
   "source": [
    "**2ai. Write a coxian() function in Python which generates a random variate from the particular Coxian distribution above.**\n"
   ]
  },
  {
   "cell_type": "code",
   "execution_count": 3,
   "id": "26ce0c97",
   "metadata": {
    "scrolled": false
   },
   "outputs": [
    {
     "name": "stdout",
     "output_type": "stream",
     "text": [
      "Conf int =  (3.830277689579539, 3.850587675035664)\n",
      "Conf int 2 =  (30.189490521278454, 30.535115597832128)\n"
     ]
    }
   ],
   "source": [
    "def tablelookup(P):\n",
    "    u = random.random()\n",
    "    sumP = 0.0\n",
    "    for i in range(len(P)):\n",
    "        sumP += P[i]\n",
    "        if u < sumP:\n",
    "            return i\n",
    "    return len(P)\n",
    "\n",
    "def phase(beta, mu, T):\n",
    "    i = tablelookup(beta)\n",
    "    result = 0.0\n",
    "    n = len(mu)\n",
    "    while i != n:\n",
    "        result += random.expovariate(mu[i])\n",
    "        i = tablelookup(T[i])\n",
    "    return result\n",
    "## Useful extras ----------\n",
    "def conf(L):\n",
    "    \"\"\"confidence interval\"\"\"\n",
    "    lower = np.mean(L) - 1.96*np.std(L)/math.sqrt(len(L))\n",
    "    upper = np.mean(L) + 1.96*np.std(L)/math.sqrt(len(L))\n",
    "    return (lower, upper)\n",
    "    \n",
    "def estimate():\n",
    "    W = []\n",
    "    W2 = []\n",
    "    for i in range(10000):\n",
    "        x = phase(beta, mu, T)\n",
    "        W.append(x)\n",
    "        W2.append(x**2)\n",
    "    return np.mean(W), np.mean(W2)\n",
    "beta = [1.0, 0, 0, 0]\n",
    "mu = [2.0, 3.0]\n",
    "T = [[0, 0.8],\n",
    "     [1, 0]]\n",
    "\n",
    "random.seed(123)\n",
    "L = []\n",
    "L2 = []\n",
    "for j in range(50):\n",
    "    r = estimate()\n",
    "    L.append(r[0])\n",
    "    L2.append(r[1])\n",
    "print(\"Conf int = \", conf(L))\n",
    "print(\"Conf int 2 = \", conf(L2))   \n",
    "    "
   ]
  },
  {
   "cell_type": "markdown",
   "id": "b7cdf31f",
   "metadata": {},
   "source": [
    "ii. Simulate 10000 random variates from this particular Coxian distribution and give a 95% confidence interval for E[τ ] and E[τ 2]. Compare your results to the exact values of E(τ) = 23/30 and E(τ 2) = 17/18 and comment on your findings."
   ]
  },
  {
   "cell_type": "code",
   "execution_count": null,
   "id": "96b96eed",
   "metadata": {},
   "outputs": [],
   "source": []
  },
  {
   "cell_type": "markdown",
   "id": "9553ba75",
   "metadata": {},
   "source": [
    "b. Modify a suitable simulation model of an M/G/1 queueing system so that the service time τ is as given in part (a) and λ = 1. Your should import coxian.py from part (a) or reuse its code. Ensure that you use sensible variable names and do not have parameters that are not used in your model.\n",
    "Determine whether the Pollaczek-Khinchin formula appears to hold by forming a 95% confidence interval for Y = wQ − λ E[τ2] 2(1 − ρ)\n",
    "from 50 replications, where each replication gives one estimate of Y . Comment on your results."
   ]
  },
  {
   "cell_type": "code",
   "execution_count": 4,
   "id": "7872cc18",
   "metadata": {},
   "outputs": [
    {
     "name": "stdout",
     "output_type": "stream",
     "text": [
      "Service times:\n",
      " (0.06141925443818422, 0.08072068298398319, 0.23148915446894425, 0.08174670665640571, 0.05748620930082159, 0.09827457314816287, 0.2952873764067431, 0.24422765952063172, 0.11602499967195132, 0.32836066732166724, 0.11705570996467347, 0.2406074168069659, 0.19744399927343295, 0.2171753419351639, 0.28739689656094314, 0.05015977987476573, 0.19160945860647904, 0.1259643866527879, 0.05723699179858774, 0.12609989216034093, 0.10820031212126002, 0.10195168475906521, 0.3684716954455296, 0.4320108532755533, 0.09270383828342971, 0.5410935744664773, 0.035936183755936, 0.07512958135128789, 0.06603288201295375, 0.05032547876320646)\n",
      "Service times squared:\n",
      " (0.0037723248157424116, 0.006515828661400713, 0.05358722863674673, 0.006682524049168446, 0.003304664259777867, 0.009657891727453615, 0.08719463466517757, 0.05964714967492561, 0.013461800548876303, 0.10782072784393062, 0.013702039235333757, 0.057891929022521015, 0.038984132849087395, 0.047165129144655364, 0.08259697615286145, 0.0025160035170849527, 0.036714184627468005, 0.015867026704813048, 0.0032760732301516, 0.01590118280284961, 0.011707307543138088, 0.01039414602521181, 0.1357713903445031, 0.1866333773478716, 0.008594001632480287, 0.29278225632890925, 0.0012914093029403983, 0.005644453994019785, 0.004360341506936671, 0.002532653812745945)\n",
      "\n",
      "Estimate of W: 0.2976495554685774\n",
      "Estimate of S: 0.16925477472621117\n",
      "Estimate of S^2: 0.044199026333626094\n"
     ]
    }
   ],
   "source": [
    "## Erlang distribution ----------\n",
    "def erlangvariate(k, mu):\n",
    "    result = 0.0\n",
    "    for i in range(k):\n",
    "        result += random.expovariate(mu)\n",
    "    return result\n",
    "\n",
    "class Source(Process):\n",
    "    def run(self, N, lamb, k, mu):\n",
    "        for i in range(N):\n",
    "            a = Arrival(str(i))\n",
    "            activate(a, a.run(k, mu))\n",
    "            t = random.expovariate(lamb)\n",
    "            yield hold, self, t\n",
    "        \n",
    "class Arrival(Process):\n",
    "    \"\"\"an arrival\"\"\"\n",
    "    def run(self, k, mu):\n",
    "        arrivetime = now()\n",
    "        yield request, self, G.server\n",
    "        t = erlangvariate(k,mu)\n",
    "        G.servicemon.observe(t)\n",
    "        G.servicesquaredmon.observe(t**2)\n",
    "        yield hold, self, t\n",
    "        yield release, self, G.server\n",
    "        delay = now()-arrivetime\n",
    "        G.delaymon.observe(delay)\n",
    "        \n",
    "class G:\n",
    "    server = 'dummy'\n",
    "    delaymon = 'Monitor'\n",
    "    servicemon = 'Monitor'\n",
    "    servicesquaredmon = 'Monitor'\n",
    "\n",
    "def model(c, N, lamb, k, mu, maxtime, rvseed):\n",
    "    # setup\n",
    "    initialize()\n",
    "    random.seed(rvseed)\n",
    "    G.server = Resource(c)\n",
    "    G.delaymon = Monitor()\n",
    "    G.servicemon = Monitor()\n",
    "    G.servicesquaredmon = Monitor()\n",
    "    # simulate\n",
    "    s = Source('Source')\n",
    "    activate(s, s.run(N, lamb, k, mu))\n",
    "    simulate(until=maxtime)\n",
    "    # gather performance measures\n",
    "    W = G.delaymon.mean()\n",
    "    S = G.servicemon.mean()\n",
    "    S2 = G.servicesquaredmon.mean()\n",
    "    print(\"Service times:\\n\", G.servicemon.yseries())\n",
    "    print(\"Service times squared:\\n\", G.servicesquaredmon.yseries())\n",
    "    return W, S, S2\n",
    "\n",
    "## Experiment ----------------\n",
    "W, S, S2 = model(c=1, N=30, lamb=3, k=2, mu=10, maxtime=2000000, rvseed=123)\n",
    "print(\"\")\n",
    "print(\"Estimate of W:\", W)\n",
    "print(\"Estimate of S:\", S)\n",
    "print(\"Estimate of S^2:\", S2)\n",
    "\n",
    "\n",
    "\n"
   ]
  },
  {
   "cell_type": "code",
   "execution_count": null,
   "id": "bf24cdd4",
   "metadata": {},
   "outputs": [],
   "source": []
  },
  {
   "cell_type": "code",
   "execution_count": null,
   "id": "2a032d49",
   "metadata": {},
   "outputs": [],
   "source": []
  }
 ],
 "metadata": {
  "kernelspec": {
   "display_name": "Python 3",
   "language": "python",
   "name": "python3"
  },
  "language_info": {
   "codemirror_mode": {
    "name": "ipython",
    "version": 3
   },
   "file_extension": ".py",
   "mimetype": "text/x-python",
   "name": "python",
   "nbconvert_exporter": "python",
   "pygments_lexer": "ipython3",
   "version": "3.8.8"
  }
 },
 "nbformat": 4,
 "nbformat_minor": 5
}
