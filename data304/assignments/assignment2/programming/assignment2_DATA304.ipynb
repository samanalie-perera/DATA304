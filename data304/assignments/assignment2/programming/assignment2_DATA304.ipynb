{
 "cells": [
  {
   "cell_type": "markdown",
   "id": "3c39eb28",
   "metadata": {},
   "source": [
    "Samanalie Perera, 300486075"
   ]
  },
  {
   "cell_type": "code",
   "execution_count": 201,
   "id": "6fda84b4",
   "metadata": {},
   "outputs": [],
   "source": [
    "import random\n",
    "import numpy as np\n",
    "import matplotlib.pyplot as plt\n",
    "import math\n",
    "from scipy.stats import poisson\n",
    "from SimPy.Simulation import *"
   ]
  },
  {
   "cell_type": "markdown",
   "id": "57915712",
   "metadata": {},
   "source": [
    "**Q1a. Write a chisquarevariate(k) function in Python which generates a random variate\n",
    "from a “χ2k distribution” (chi-square distribution with k degrees of freedom). This is simply the sum of the\n",
    "squares of k independent standard normal random variates.**"
   ]
  },
  {
   "cell_type": "code",
   "execution_count": 202,
   "id": "e1b8227a",
   "metadata": {},
   "outputs": [
    {
     "data": {
      "text/plain": [
       "2.340933377410175"
      ]
     },
     "execution_count": 202,
     "metadata": {},
     "output_type": "execute_result"
    }
   ],
   "source": [
    "#using Lab3\n",
    "def chisquarevariate(k):\n",
    "    \"\"\"random variate from an chi squared distribution with k degrees of freedom\"\"\"\n",
    "    result = 0.0\n",
    "    for i in range(k):\n",
    "        result += random.normalvariate(0,1)**2\n",
    "    return result\n",
    "\n",
    "chisquarevariate(3)"
   ]
  },
  {
   "cell_type": "markdown",
   "id": "4caf038c",
   "metadata": {},
   "source": [
    "**b.for each k ∈ {1, 2, 3, 4, 5, 6, 7, 8, 9}, simulate 10000 random variates X ∼ χ2k to estimate E(X) and var(X)**\n",
    "\n"
   ]
  },
  {
   "cell_type": "code",
   "execution_count": 203,
   "id": "9f91cf09",
   "metadata": {},
   "outputs": [
    {
     "name": "stdout",
     "output_type": "stream",
     "text": [
      "k:  1\n",
      "E(X):  1.010823328954013\n",
      "Var(X):  2.056340631286631\n",
      "2k:  2\n",
      "k:  2\n",
      "E(X):  2.000524185148885\n",
      "Var(X):  4.028118708382056\n",
      "2k:  4\n",
      "k:  3\n",
      "E(X):  3.0387458509386263\n",
      "Var(X):  6.0015721320591675\n",
      "2k:  6\n",
      "k:  4\n",
      "E(X):  4.021870090417386\n",
      "Var(X):  8.248851866305564\n",
      "2k:  8\n",
      "k:  5\n",
      "E(X):  5.032357187589926\n",
      "Var(X):  10.15314004110964\n",
      "2k:  10\n",
      "k:  6\n",
      "E(X):  6.058991701991648\n",
      "Var(X):  12.276242358204753\n",
      "2k:  12\n",
      "k:  7\n",
      "E(X):  7.00554806619972\n",
      "Var(X):  13.646895182781648\n",
      "2k:  14\n",
      "k:  8\n",
      "E(X):  7.954802970964434\n",
      "Var(X):  15.647792165847951\n",
      "2k:  16\n",
      "k:  9\n",
      "E(X):  8.97157154544071\n",
      "Var(X):  18.047669911314927\n",
      "2k:  18\n"
     ]
    }
   ],
   "source": [
    "#using Lab3\n",
    "def chiestimate(k):\n",
    "    W = []\n",
    "    for i in range(10000):\n",
    "        W.append(chisquarevariate(k))\n",
    "    return (np.mean(W), np.var(W))\n",
    "\n",
    "random.seed(1)\n",
    "for k in [1,2,3,4,5,6,7,8,9]:\n",
    "    r = chiestimate(k)\n",
    "    print('k: ', k)\n",
    "    print(\"E(X): \",r[0])\n",
    "    print(\"Var(X): \", r[1])\n",
    "    print('2k: ', k*2)"
   ]
  },
  {
   "cell_type": "markdown",
   "id": "22c463ad",
   "metadata": {},
   "source": [
    "**c.Modify your code from part (b) to give a 95% confidence interval for E(X) and a 95%\n",
    "confidence interval for var(X) from 50 replications.**"
   ]
  },
  {
   "cell_type": "code",
   "execution_count": 204,
   "id": "b4d8f1e8",
   "metadata": {},
   "outputs": [
    {
     "name": "stdout",
     "output_type": "stream",
     "text": [
      "Confidence interval for E(X):  (3.3326804300497654, 6.688482887204757)\n",
      "Confidence interval for Var(X):  (6.6877212464031235, 13.335972752995174)\n"
     ]
    }
   ],
   "source": [
    "#using Lab3\n",
    "def conf(L):\n",
    "    \"\"\"95% confidence interval\"\"\"\n",
    "    lower = np.mean(L) - 1.96*np.std(L)/math.sqrt(len(L))\n",
    "    upper = np.mean(L) + 1.96*np.std(L)/math.sqrt(len(L))\n",
    "    return lower, upper\n",
    "\n",
    "def chiestimate(k):\n",
    "    W = []\n",
    "    for i in range(10000):\n",
    "        W.append(chisquarevariate(k))\n",
    "    return (np.mean(W), np.var(W))\n",
    "\n",
    "Lvar1 = []\n",
    "Lvar2 = []\n",
    "random.seed(1)\n",
    "for k in [1,2,3,4,5,6,7,8,9]:\n",
    "    r = chiestimate(k)\n",
    "    Lvar1.append(r[0])\n",
    "    Lvar2.append(r[1])\n",
    "    \n",
    "CI = conf(Lvar1)\n",
    "CI2 = conf(Lvar2)\n",
    "\n",
    "\n",
    "print(\"Confidence interval for E(X): \", CI)\n",
    "print(\"Confidence interval for Var(X): \", CI2)\n"
   ]
  },
  {
   "cell_type": "markdown",
   "id": "408ba1cf",
   "metadata": {},
   "source": [
    "**d. Compare your results from parts (b) and (c) to the exact values of E(X) and var(X) which\n",
    "you can find, e.g., on Wikipedia, and comment on your findings.**"
   ]
  },
  {
   "cell_type": "markdown",
   "id": "a3bfe834",
   "metadata": {},
   "source": [
    "The exact value of E(X) is k. This means that when k = 3 (degrees of freedom), the E(X) value ended up being \n",
    "3.04 (2dp) which is pretty close to 3. \n",
    "The exact value of var(X) is 2*k. This means that when k = 5 (degrees of freedom), the var(X) value ended up being 10.15 (2dp) which is very close to 2 * 5 = 10. \n"
   ]
  },
  {
   "cell_type": "markdown",
   "id": "15c42339",
   "metadata": {},
   "source": [
    "**2.The number of customers coming to a shop in a day follows a Poisson distribution with a\n",
    "mean of 22.**"
   ]
  },
  {
   "cell_type": "markdown",
   "id": "d0fed894",
   "metadata": {},
   "source": [
    "**a. Write Python code to compute analytically the probability of 28 customers coming to that\n",
    "shop in a day**"
   ]
  },
  {
   "cell_type": "code",
   "execution_count": 205,
   "id": "cf88ee6d",
   "metadata": {},
   "outputs": [
    {
     "name": "stdout",
     "output_type": "stream",
     "text": [
      "The probability of 22 customers that come into the shop in a day is 0.03541731538896103\n"
     ]
    }
   ],
   "source": [
    "num_customers = 28\n",
    "mean = 22\n",
    "prob = poisson.pmf(num_customers, mean)\n",
    "print(\"The probability of {} customers that come into the shop in a day is {}\".format(mean,prob))"
   ]
  },
  {
   "cell_type": "markdown",
   "id": "2f4af437",
   "metadata": {},
   "source": [
    "**b.Write Python code to answer the previous question through simulation by generating\n",
    "10000 random variates from a Poisson distribution. Plot the frequency of the number of\n",
    "customers in this simulation. Use random seed = 123 for this question.**"
   ]
  },
  {
   "cell_type": "code",
   "execution_count": 206,
   "id": "ff3cc0fb",
   "metadata": {},
   "outputs": [
    {
     "data": {
      "image/png": "[encoded data removed]",
      "text/plain": [
       "<Figure size 432x288 with 1 Axes>"
      ]
     },
     "metadata": {
      "needs_background": "light"
     },
     "output_type": "display_data"
    }
   ],
   "source": [
    "random.seed(123)\n",
    "mean = 22\n",
    "prob2 = poisson.rvs(mean, size=10000)\n",
    "\n",
    "plt.hist(prob2, bins=20)\n",
    "plt.xlabel(\"Number of customers\")\n",
    "plt.ylabel(\"Frequency\")\n",
    "plt.title(\"Poisson distribution with mean 22 \")\n",
    "plt.show()\n"
   ]
  },
  {
   "cell_type": "markdown",
   "id": "64848c68",
   "metadata": {},
   "source": [
    "**3.Write a SimPy simulation program to describe the following behaviours of a visitor named\n",
    "Kathy at an unpopular Museum, assuming that no other visitors arrive while Kathy is there:\n",
    "Kathy enters the empty museum at time 0. There are three displays, numbered 0, 1, and 2. She\n",
    "only has time to see two of them. She first goes to display 0 and looks at it. When she leaves\n",
    "it, she chooses display 1 with probability p = 0.4 and display 2 with probability (1 − p). The\n",
    "times taken to look at the three displays are displayTime = [4.5, 5.5, 7.5], respectively.\n",
    "She says, “Look, number i” (where i is the display number) when she goes to a display. Use a\n",
    "random seed of 123**"
   ]
  },
  {
   "cell_type": "code",
   "execution_count": 207,
   "id": "d3c83c89",
   "metadata": {},
   "outputs": [
    {
     "name": "stdout",
     "output_type": "stream",
     "text": [
      "0 Kathy enters the museum\n",
      "0 Kathy goes to display 0\n",
      "4.5 Kathy looks at display 0\n",
      "4.5 Kathy goes to display 1\n",
      "10.0 Kathy looks at display 1\n",
      "10.0 Kathy leaves the museum\n"
     ]
    },
    {
     "data": {
      "text/plain": [
       "'SimPy: No more events at time 10.0'"
      ]
     },
     "execution_count": 207,
     "metadata": {},
     "output_type": "execute_result"
    }
   ],
   "source": [
    "#using lab 4\n",
    "## Model components --------------------\n",
    "class Kathy(Process):\n",
    "    \"\"\"An art lover\"\"\"\n",
    "    \n",
    "    def visit(self):\n",
    "        print(now(), 'Kathy enters the museum')\n",
    "        for picture in range(2):\n",
    "            #randomly choosing from three displays\n",
    "            random.choice(Npictures)\n",
    "            display1 = picture\n",
    "            print(now(), 'Kathy goes to display',display1)\n",
    "            yield hold, self, displayTime[display1]\n",
    "            print(now(), 'Kathy looks at display', display1)\n",
    "            \n",
    "            #if the random number is less than the prob, she goes to 1 display\n",
    "            if random.random() < prob:\n",
    "                display1 = 1\n",
    "            #else she will go to the other display    \n",
    "            else:\n",
    "                display1 = 2\n",
    "        print(now(), 'Kathy leaves the museum')\n",
    "    \n",
    "    \n",
    "## Experiment data ----------------------\n",
    "random.seed(123)\n",
    "Npictures = [0,1,2]\n",
    "displayTime = [4.5,5.5,7.5]\n",
    "prob = 0.4\n",
    "\n",
    "## Experiment ---------------------------\n",
    "initialize()\n",
    "kathy = Kathy('Kathy')\n",
    "activate(kathy, kathy.visit(), now())\n",
    "simulate(until=sum(displayTime))"
   ]
  }
 ],
 "metadata": {
  "kernelspec": {
   "display_name": "Python 3",
   "language": "python",
   "name": "python3"
  },
  "language_info": {
   "codemirror_mode": {
    "name": "ipython",
    "version": 3
   },
   "file_extension": ".py",
   "mimetype": "text/x-python",
   "name": "python",
   "nbconvert_exporter": "python",
   "pygments_lexer": "ipython3",
   "version": "3.8.8"
  }
 },
 "nbformat": 4,
 "nbformat_minor": 5
}
