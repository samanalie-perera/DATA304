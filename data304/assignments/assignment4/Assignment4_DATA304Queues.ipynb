{
 "cells": [
  {
   "cell_type": "markdown",
   "id": "b06a3b72",
   "metadata": {},
   "source": [
    "Samanalie Perera, 300486075"
   ]
  },
  {
   "cell_type": "markdown",
   "id": "83487be1",
   "metadata": {},
   "source": [
    "## Assignment 4: Queues"
   ]
  },
  {
   "cell_type": "markdown",
   "id": "2d6136bc",
   "metadata": {},
   "source": [
    "### Problem 1: Consider the system described by the following initial distribution $ \\beta \\text {and S matrix:} $"
   ]
  },
  {
   "cell_type": "markdown",
   "id": "57cd035e",
   "metadata": {},
   "source": [
    "$$ \n",
    "\\beta = (1,0,0,0,0,0), \\\\\n",
    "S= \\begin{bmatrix} -\\mu 1 & 0 & 0 & \\mu 1 & 0 & 0 \\\\ 0 & -\\mu 2 & 0 & p \\mu 2 & (1-p) \\mu 2 & 0 \\\\ 0 & 0 & -\\mu 3 & 0 & \\mu 3 & 0 \\\\ 0 & 0 & 0 & -\\mu 4 & 0 & \\mu 4 \\\\0 & 0 & 0 & 0 & - \\mu 5 & \\mu 5 \\\\p1\\mu 6 & p2\\mu 6 & p3 \\mu 6 & 0 & 0 & -\\mu 6 \\end{bmatrix}$$\n"
   ]
  },
  {
   "cell_type": "markdown",
   "id": "7ec8e5ab",
   "metadata": {},
   "source": [
    "**- Draw the system as a graph in which there are no intersecting edges.**"
   ]
  },
  {
   "cell_type": "markdown",
   "id": "44517bce",
   "metadata": {},
   "source": [
    "<img src=\"./systemFor304.png\" alt=\"Alternative text\" />"
   ]
  },
  {
   "cell_type": "markdown",
   "id": "11bfa338",
   "metadata": {},
   "source": [
    "**-Describe in your own words how the system works. In particular, stipulate conditions on p1, p2,\n",
    "and p3 based on your description.**"
   ]
  },
  {
   "cell_type": "markdown",
   "id": "5357f7bb",
   "metadata": {},
   "source": [
    "Node 1 has one connection from itself. Node 2 has 3 connections, from itself (Node 2), Node 4 and Node 5. Node 3 has 2 connections, 1 from itself and from Node 5. Node 4 has 2 connections, 1 from itself and 1 from Node 6. Node 5 has 2 connections, 1 from itself and 1 from Node 6. Node 6 has 4 connections. 1 from Node 1, 1 from Node 2, 1 from Node 3 and 1 from Node 6. To stipulate conditions on p1, p2 and p3 we need to ensure that the conditions are well defined and stable. Since the value $p1 \\mu 6 < 1$ the condition ensures that the connection from node 1 to node 6 desnt dominate the system. The value $p2 \\mu 6 < 1$ the condition ensures that the connection from node 2 to node 6 desnt dominate the system. The value $p3 \\mu 6 < 1$ the condition ensures that the connection from node 3 to node 6 desnt dominate the system. Having these conditions we can ensure that the system remains stable. "
   ]
  },
  {
   "cell_type": "markdown",
   "id": "9b5d8728",
   "metadata": {},
   "source": [
    "**- Compute the expected time spent in the system.**"
   ]
  },
  {
   "cell_type": "markdown",
   "id": "94c257fc",
   "metadata": {},
   "source": [
    "<img src=\"./q1_304.png\" />"
   ]
  },
  {
   "cell_type": "markdown",
   "id": "a37d88ff",
   "metadata": {},
   "source": [
    "**- Compute the expected time spent in the system assuming $ \\mu i = 1$ for every $ 1 \\le i \\le 6$ and that $ p = \\frac{1}{2}$**"
   ]
  },
  {
   "cell_type": "markdown",
   "id": "4f9a83cb",
   "metadata": {},
   "source": [
    "<img src=\"./q1a_304.png\" />"
   ]
  },
  {
   "cell_type": "markdown",
   "id": "715e9bee",
   "metadata": {},
   "source": [
    "**- Assuming $\\mu i = 1$ for every $ 1 \\le i \\le 6,$ $p = \\frac{1}{2},$ and $ p1 = p2 = p3 = \\xi$, compute the expected time spent in the system as a function of $\\xi$. Which are the valid values for $\\xi$? Plot the time spent in the system as a function of $\\xi$.**"
   ]
  },
  {
   "cell_type": "markdown",
   "id": "d7ece282",
   "metadata": {},
   "source": [
    "<img src=\"./q1b_304.png\"/>"
   ]
  },
  {
   "cell_type": "markdown",
   "id": "e6d2280f",
   "metadata": {},
   "source": [
    "the valid values are the $-\\frac{2}{-1+6Z}$, $-\\frac{2-4Z}{-2+6Z}$, $-\\frac{2-3Z}{-2+6Z}$ and $-\\frac{7Z}{-2+6Z}$"
   ]
  },
  {
   "cell_type": "markdown",
   "id": "11535adf",
   "metadata": {},
   "source": [
    "**- Assuming $\\mu i = 1$ for every $ 1 \\le i \\le 6,$ $p = \\frac{1}{2},$ and $ pj = \\frac{1}{4}$ for every $ 1 \\le j \\le 3$, compute the expected time spent in the system.**"
   ]
  },
  {
   "cell_type": "markdown",
   "id": "e3361e02",
   "metadata": {},
   "source": [
    "<img src=\"./q1c_304.png\"/>"
   ]
  },
  {
   "cell_type": "markdown",
   "id": "3783e16b",
   "metadata": {},
   "source": [
    "**- Assuming $\\mu i = 1$ for every $ 1 \\le i \\le 6,$ $p = \\frac{1}{2},$ $p = \\frac{1}{2},$ and $pj = 0$ for every $ 1 \\le j \\le 3$, compute the expected time spent in the system. Describe in words this situation; in particular, discuss the use of all servers.**"
   ]
  },
  {
   "cell_type": "markdown",
   "id": "e4dfc258",
   "metadata": {},
   "source": [
    "<img src=\"./q1d_304.png\" />"
   ]
  },
  {
   "cell_type": "code",
   "execution_count": null,
   "id": "ec274ec4",
   "metadata": {},
   "outputs": [],
   "source": []
  },
  {
   "cell_type": "markdown",
   "id": "bd782ba5",
   "metadata": {},
   "source": [
    "### Problem 2: Justify your answers, i.e., mention the hypotheses, theorems or results that allow you to take the necessary steps."
   ]
  },
  {
   "cell_type": "markdown",
   "id": "bdceecaa",
   "metadata": {},
   "source": [
    "<img src=\"./problem2.png\" alt=\"Alternative text\" />"
   ]
  },
  {
   "cell_type": "markdown",
   "id": "bcafbb28",
   "metadata": {},
   "source": [
    "**(a). Describe in words the network operation.**"
   ]
  },
  {
   "cell_type": "markdown",
   "id": "32c98481",
   "metadata": {},
   "source": [
    "The network consists of three systems interconnected, namely:\n",
    "Node 1: M/M/$\\infty$ that sends packages to Node 2 and Node 3, with the probability of $\\frac{1}{2}$\n",
    "Node 2: M/M/$c_2$ that sends packages to Node 3 after servicing. \n",
    "Node 3: M/M/$c_3$ that sends packages to the output after servicing. \n"
   ]
  },
  {
   "cell_type": "markdown",
   "id": "0caf87e4",
   "metadata": {},
   "source": [
    "**(b). Is it a Jackson network? If it is, what kind of Jackson network is it?**"
   ]
  },
  {
   "cell_type": "markdown",
   "id": "a4ad68a4",
   "metadata": {},
   "source": [
    "Yes it is a jackson network because the serving rate is the same. The rates within the nodes are the same. It is a free-forward network, as they are all going forward. Each node has a steady state distribution when all the system has steady state. "
   ]
  },
  {
   "cell_type": "markdown",
   "id": "0b66d17f",
   "metadata": {},
   "source": [
    "**(c). Find the minimum number of servers for nodes 2 and 3, namely c2 and c3 respectively, such that\n",
    "the network has a steady-state distribution.**"
   ]
  },
  {
   "cell_type": "markdown",
   "id": "3a5521dc",
   "metadata": {},
   "source": [
    "The total arrival rate for each node is: \n",
    "$$\n",
    "\\lambda_1 = \\frac{10}{1} = 10\\\\\n",
    "\\lambda_2 = \\frac{10}{2} = 5 \\\\\n",
    "\\lambda_3 = \\frac{10}{2} + 5 = 10\\\\\n",
    "$$\n",
    "Since the exit rate is $\\lambda = 10$ the arrival rate will also be $\\lambda = 10$. \n",
    "Since Node 1 is M/M/$\\infty$ it has a steady state distribution. \n",
    "To find the minimum number of servers for Node 2 is the $\\frac{\\lambda}{c_2*\\mu} \\lt 1$, so $\\frac{5}{c_2*1} \\lt 1$ So the minimum number of servers would be 6.\n",
    "To find the minimum number of servers for Node 3 is the $\\frac{\\lambda}{c_3*\\mu} \\lt 1$, so $\\frac{10}{c_3*1} \\lt 1$, So the minimum number of servers would be 11. \n"
   ]
  },
  {
   "cell_type": "markdown",
   "id": "8ea382ec",
   "metadata": {},
   "source": [
    "**(d).Characterize such distribution, i.e., using the results from Item 3, with the probability of having n1\n",
    "customers on Node 1, n2 customers on Node 2, and n3 customers on Node 3.**"
   ]
  },
  {
   "cell_type": "markdown",
   "id": "b46cf686",
   "metadata": {},
   "source": []
  },
  {
   "cell_type": "markdown",
   "id": "734fcf14",
   "metadata": {},
   "source": [
    "**(e). What is the probability of a completely idle network?**"
   ]
  },
  {
   "cell_type": "code",
   "execution_count": null,
   "id": "1472768c",
   "metadata": {},
   "outputs": [],
   "source": []
  }
 ],
 "metadata": {
  "kernelspec": {
   "display_name": "Python 3",
   "language": "python",
   "name": "python3"
  },
  "language_info": {
   "codemirror_mode": {
    "name": "ipython",
    "version": 3
   },
   "file_extension": ".py",
   "mimetype": "text/x-python",
   "name": "python",
   "nbconvert_exporter": "python",
   "pygments_lexer": "ipython3",
   "version": "3.8.8"
  }
 },
 "nbformat": 4,
 "nbformat_minor": 5
}
